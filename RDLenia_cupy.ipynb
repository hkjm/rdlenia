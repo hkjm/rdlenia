{
  "cells": [
    {
      "cell_type": "markdown",
      "metadata": {
        "id": "view-in-github",
        "colab_type": "text"
      },
      "source": [
        "<a href=\"https://colab.research.google.com/github/hkjm/rdlenia/blob/main/RDLenia_cupy.ipynb\" target=\"_parent\"><img src=\"https://colab.research.google.com/assets/colab-badge.svg\" alt=\"Open In Colab\"/></a>"
      ]
    },
    {
      "cell_type": "markdown",
      "source": [
        "# Preparation"
      ],
      "metadata": {
        "id": "8ZQFsNwEdgPI"
      },
      "id": "8ZQFsNwEdgPI"
    },
    {
      "cell_type": "code",
      "source": [
        "import numpy as np\n",
        "import matplotlib.pylab as plt\n",
        "import IPython.display\n",
        "from IPython.display import display, clear_output\n",
        "import scipy\n",
        "from PIL import Image\n",
        "\n",
        "!pip -q install \"cupy-cuda12x\"\n",
        "import cupy as cp\n",
        "from cupyx.scipy import signal\n",
        "\n",
        "from pathlib import Path, PosixPath\n",
        "import urllib.request, os\n",
        "\n",
        "DATA_DIR = Path(\"data\")\n",
        "FNAME    = \"initialPattern.txt\"\n",
        "URL      = f\"https://raw.githubusercontent.com/hkjm/rdlenia/main/{DATA_DIR}/{FNAME}\"\n",
        "path = DATA_DIR / FNAME\n",
        "if not path.exists():\n",
        "    os.makedirs(DATA_DIR, exist_ok=True)\n",
        "    urllib.request.urlretrieve(URL, path)\n",
        "\n",
        "_c0 = np.loadtxt(path)"
      ],
      "metadata": {
        "id": "C6PKoYmF084s"
      },
      "id": "C6PKoYmF084s",
      "execution_count": null,
      "outputs": []
    },
    {
      "cell_type": "code",
      "source": [
        "# parameters\n",
        "\n",
        "sizeX = sizeY = 128\n",
        "numSp = 40\n",
        "mu        = 0.1\n",
        "\n",
        "tau_learn = 0.00001\n",
        "tau_sim   = 0.00001\n",
        "epsilon_learn   = 0.005\n",
        "epsilon_sim   = 0.005\n",
        "\n",
        "n_learn   = 10000\n",
        "n_sim     = 2000000\n",
        "save_every = 10000\n",
        "\n",
        "m, s      = 0.21, 0.018\n",
        "bell = lambda x, m, s: np.exp(-((x-m)/s)**2 / 2)\n",
        "\n",
        "b = np.asarray([5/6,7/12,1])\n",
        "R = 36\n",
        "D = np.linalg.norm(np.array(np.meshgrid(np.arange(-R,R), np.arange(-R,R)))+1,axis=0)  / R * len(b)\n",
        "K = (D<len(b)) * b[np.minimum(D.astype(int),len(b)-1)] * bell(D % 1, 0.5, 0.15)\n",
        "K = K/np.sum(K)\n",
        "\n",
        "bell_cp = lambda x, m, s: cp.exp(-((x-m)/s)**2 / 2)\n",
        "def target_cp(U): return bell_cp(U, m, s)\n",
        "K_cp = cp.asarray(K, dtype=cp.float64)\n",
        "\n",
        "D_vec = cp.arange(1, numSp+1, dtype=cp.float64)[:,None,None]\n",
        "def laplacian_all(v):\n",
        "    v_u = cp.roll(v, -1, 1); v_d = cp.roll(v, 1, 1)\n",
        "    v_l = cp.roll(v, -1, 2); v_r = cp.roll(v, 1, 2)\n",
        "    return v_u + v_d + v_l + v_r - 4*v"
      ],
      "metadata": {
        "id": "5wo0Zzxu4M78"
      },
      "id": "5wo0Zzxu4M78",
      "execution_count": null,
      "outputs": []
    },
    {
      "cell_type": "markdown",
      "source": [
        "## Approximation of the non-local kernel by auxiliary components\n"
      ],
      "metadata": {
        "id": "-3xdF9QodQTD"
      },
      "id": "-3xdF9QodQTD"
    },
    {
      "cell_type": "code",
      "source": [
        "c0 = cp.zeros((numSp+1, sizeX, sizeY), dtype=cp.float64)\n",
        "c0[0] = cp.asarray(_c0)\n"
      ],
      "metadata": {
        "id": "OKphTWfwe8GW"
      },
      "id": "OKphTWfwe8GW",
      "execution_count": null,
      "outputs": []
    },
    {
      "cell_type": "code",
      "source": [
        "c_learn = c0.copy()\n",
        "\n",
        "def update_learn(c):\n",
        "    u, v = c[0], c[1:]\n",
        "    reaction_u = cp.zeros_like(u)\n",
        "    reaction_v = mu*u - v\n",
        "    diff_v     = D_vec * laplacian_all(v)\n",
        "    dudt = reaction_u[None]\n",
        "    dvdt = (reaction_v + diff_v) / epsilon_learn\n",
        "    return cp.concatenate([dudt, dvdt])\n",
        "\n",
        "for t in range(n_learn):\n",
        "    c_learn += tau_learn * update_learn(c_learn)\n",
        "\n",
        "U_conv = signal.convolve2d(c_learn[0], K_cp, mode='same', boundary='wrap')\n",
        "\n",
        "X = c_learn[1:].reshape(numSp, -1).T\n",
        "y = U_conv.ravel()\n",
        "\n",
        "Xb = cp.concatenate([X, cp.ones((X.shape[0],1),dtype=X.dtype)], 1)\n",
        "beta, *_ = cp.linalg.lstsq(Xb, y, rcond=None)\n",
        "\n",
        "coef_cp = beta[:-1]\n",
        "icpt_cp = beta[-1]\n",
        "\n"
      ],
      "metadata": {
        "id": "KQNxDGkZ3a1l"
      },
      "id": "KQNxDGkZ3a1l",
      "execution_count": null,
      "outputs": []
    },
    {
      "cell_type": "markdown",
      "source": [
        "# Run RD Lenia"
      ],
      "metadata": {
        "id": "Ret9VMbxdUzV"
      },
      "id": "Ret9VMbxdUzV"
    },
    {
      "cell_type": "code",
      "source": [
        "c = c0.copy()\n",
        "\n",
        "fig, (ax0, ax1) = plt.subplots(1, 2, figsize=(7,4))\n",
        "im0 = ax0.imshow(cp.asnumpy(c[0]), cmap='viridis', origin='lower')\n",
        "ax0.set_title(\"step 0\")\n",
        "\n",
        "im1 = ax1.imshow(cp.asnumpy(c[0]), cmap='viridis', origin='lower')\n",
        "ax1.set_title(\"step 0 (current)\")\n",
        "plt.show()\n",
        "\n",
        "snapshots = []\n",
        "\n",
        "def update_sim(c):\n",
        "    u, v = c[0], c[1:]\n",
        "    U_RD = cp.tensordot(v, coef_cp, axes=(0,0)) + icpt_cp\n",
        "    reaction_u = target_cp(U_RD) - u\n",
        "    reaction_v = mu*u - v\n",
        "    diff_v     = D_vec * laplacian_all(v)\n",
        "    dudt = reaction_u[None]\n",
        "    dvdt = (reaction_v + diff_v) / epsilon_sim\n",
        "    return cp.concatenate([dudt, dvdt])\n",
        "\n",
        "for step in range(n_sim):\n",
        "    c += tau_sim * update_sim(c)\n",
        "    if step % 10000 == 0:\n",
        "        im1.set_data(cp.asnumpy(c[0]))\n",
        "        ax1.set_title(f\"step {step}\")\n",
        "        clear_output(wait=True); display(fig)\n"
      ],
      "metadata": {
        "id": "3ECMZLFZKyMV"
      },
      "id": "3ECMZLFZKyMV",
      "execution_count": null,
      "outputs": []
    },
    {
      "cell_type": "code",
      "source": [],
      "metadata": {
        "id": "P4vTbbRWrSR3"
      },
      "id": "P4vTbbRWrSR3",
      "execution_count": null,
      "outputs": []
    }
  ],
  "metadata": {
    "accelerator": "GPU",
    "colab": {
      "gpuType": "T4",
      "machine_shape": "hm",
      "provenance": [],
      "include_colab_link": true
    },
    "kernelspec": {
      "display_name": "Python 3",
      "name": "python3"
    },
    "language_info": {
      "codemirror_mode": {
        "name": "ipython",
        "version": 3
      },
      "file_extension": ".py",
      "mimetype": "text/x-python",
      "name": "python",
      "nbconvert_exporter": "python",
      "pygments_lexer": "ipython3",
      "version": "3.6.11"
    }
  },
  "nbformat": 4,
  "nbformat_minor": 5
}